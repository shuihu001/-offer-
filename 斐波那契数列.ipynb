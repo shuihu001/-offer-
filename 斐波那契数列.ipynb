{
 "metadata": {
  "language_info": {
   "codemirror_mode": {
    "name": "ipython",
    "version": 3
   },
   "file_extension": ".py",
   "mimetype": "text/x-python",
   "name": "python",
   "nbconvert_exporter": "python",
   "pygments_lexer": "ipython3",
   "version": "3.7.0-final"
  },
  "orig_nbformat": 2,
  "kernelspec": {
   "name": "python3",
   "display_name": "Python 3"
  }
 },
 "nbformat": 4,
 "nbformat_minor": 2,
 "cells": [
  {
   "source": [
    "大家都知道斐波那契数列，现在要求输入一个整数n，请你输出斐波那契数列的第n项（从0开始，第0项为0，第1项是1）。\n",
    "n<=39"
   ],
   "cell_type": "markdown",
   "metadata": {}
  },
  {
   "source": [
    "按递归来写,能实现但超时了"
   ],
   "cell_type": "markdown",
   "metadata": {}
  },
  {
   "cell_type": "code",
   "execution_count": 18,
   "metadata": {},
   "outputs": [
    {
     "output_type": "execute_result",
     "data": {
      "text/plain": [
       "3"
      ]
     },
     "metadata": {},
     "execution_count": 18
    }
   ],
   "source": [
    "class Solution():\n",
    "    def Fibonacci(self, n):\n",
    "        '''按递归来写复杂度是2**n'''\n",
    "        if n == 0:\n",
    "            return 0\n",
    "        elif n == 1:\n",
    "            return 1 \n",
    "        elif n > 1:\n",
    "            return (self.Fibonacci(n - 1) + self.Fibonacci(n - 2))\n",
    "        else:\n",
    "            return None\n",
    "fib = Solution()\n",
    "fib.Fibonacci(4)"
   ]
  },
  {
   "source": [
    "换一种思维方式，其实递归的做法我们重复了很多工作，\n",
    "简单来说我们在算fib(n)的时候要算fib(n-1)和fib(n-2),而在算fib(n-1)的时候又要算fib(n-2);\n",
    "那么如果我们吧fib(n)的每一项都保存起来，每一项都等于前两项的和，不是会节省很多算力吗？"
   ],
   "cell_type": "markdown",
   "metadata": {}
  },
  {
   "cell_type": "code",
   "execution_count": 21,
   "metadata": {},
   "outputs": [
    {
     "output_type": "execute_result",
     "data": {
      "text/plain": [
       "832040"
      ]
     },
     "metadata": {},
     "execution_count": 21
    }
   ],
   "source": [
    "class Solution:\n",
    "    # 此时的复杂度为O(n)\n",
    "    def Fibonacci(self, n):\n",
    "        if n == 0:\n",
    "            return 0\n",
    "        elif n == 1:\n",
    "            return 1\n",
    "        a = 1\n",
    "        b = 0\n",
    "        ret = 0\n",
    "        for i in range(n-1):\n",
    "            ret = a + b\n",
    "            b = a\n",
    "            a = ret\n",
    "        return ret\n",
    "fib = Solution()\n",
    "fib.Fibonacci(30)"
   ]
  },
  {
   "cell_type": "code",
   "execution_count": null,
   "metadata": {},
   "outputs": [],
   "source": []
  }
 ]
}