{
 "metadata": {
  "language_info": {
   "codemirror_mode": {
    "name": "ipython",
    "version": 3
   },
   "file_extension": ".py",
   "mimetype": "text/x-python",
   "name": "python",
   "nbconvert_exporter": "python",
   "pygments_lexer": "ipython3",
   "version": "3.7.0-final"
  },
  "orig_nbformat": 2,
  "kernelspec": {
   "name": "python3",
   "display_name": "Python 3"
  }
 },
 "nbformat": 4,
 "nbformat_minor": 2,
 "cells": [
  {
   "cell_type": "code",
   "execution_count": 1,
   "metadata": {},
   "outputs": [
    {
     "output_type": "stream",
     "name": "stdout",
     "text": [
      "['汪聪']\n"
     ]
    }
   ],
   "source": [
    "# def test_list(array):\n",
    "#     array.append('汪聪')\n",
    "\n",
    "# if __name__ == '__main__':\n",
    "#     mylist = []\n",
    "#     test_list(mylist)\n",
    "#     print(mylist)"
   ]
  },
  {
   "cell_type": "code",
   "execution_count": 4,
   "metadata": {},
   "outputs": [
    {
     "output_type": "execute_result",
     "data": {
      "text/plain": [
       "[15, 14, 10, 10, 9, 8, 7, 3, 2]"
      ]
     },
     "metadata": {},
     "execution_count": 4
    }
   ],
   "source": [
    "def maopaoSort(array):\n",
    "    for i in range(len(array)):\n",
    "        for j in range(len(array) - i -1):\n",
    "            if array[j] < array[j+1]:\n",
    "                 array[j],  array[j+1] =  array[j+1], array[j]\n",
    "    return array\n",
    "            \n",
    "maopaoSort([9,8,10,15,7,3,10,14,2])\n"
   ]
  },
  {
   "cell_type": "code",
   "execution_count": null,
   "metadata": {},
   "outputs": [],
   "source": []
  }
 ]
}