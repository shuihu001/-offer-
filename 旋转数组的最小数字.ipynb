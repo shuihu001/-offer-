{
 "metadata": {
  "language_info": {
   "codemirror_mode": {
    "name": "ipython",
    "version": 3
   },
   "file_extension": ".py",
   "mimetype": "text/x-python",
   "name": "python",
   "nbconvert_exporter": "python",
   "pygments_lexer": "ipython3",
   "version": 3
  },
  "orig_nbformat": 2
 },
 "nbformat": 4,
 "nbformat_minor": 2,
 "cells": [
  {
   "source": [
    "把一个数组最开始的若干个元素搬到数组的末尾，我们称之为数组的旋转。\n",
    "输入一个非递减排序的数组的一个旋转，输出旋转数组的最小元素。\n",
    "NOTE：给出的所有元素都大于0，若数组大小为0，请返回0。"
   ],
   "cell_type": "markdown",
   "metadata": {}
  },
  {
   "cell_type": "code",
   "execution_count": null,
   "metadata": {},
   "outputs": [],
   "source": [
    "# -*- coding:utf-8 -*-\n",
    "class Solution:\n",
    "    def minNumberInRotateArray(self, rotateArray):\n",
    "        # write code here\n",
    "        # 借用二分查找的思想\n",
    "        left = 0;\n",
    "        right = len(rotateArray) - 1;\n",
    "        while left <= right:\n",
    "            middel = (left + right) // 2;\n",
    "            if rotateArray[middel] < rotateArray[middel - 1]:\n",
    "                return rotateArray[middel]\n",
    "            elif rotateArray[right] > rotateArray[middel]:\n",
    "                right = middel - 1\n",
    "            else:\n",
    "                left = middel + 1\n",
    "        \n",
    "        # 常规解法，能通过但没有利用到非递减排序这个条件\n",
    "#         minNum = 0\n",
    "#         for i in range(len(rotateArray)):\n",
    "#             minNum = minNum if minNum < rotateArray[i] and minNum != 0 else rotateArray[i]\n",
    "#         return minNum"
   ]
  }
 ]
}