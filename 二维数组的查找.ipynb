{
 "metadata": {
  "language_info": {
   "codemirror_mode": {
    "name": "ipython",
    "version": 3
   },
   "file_extension": ".py",
   "mimetype": "text/x-python",
   "name": "python",
   "nbconvert_exporter": "python",
   "pygments_lexer": "ipython3",
   "version": "3.7.0-final"
  },
  "orig_nbformat": 2,
  "kernelspec": {
   "name": "python3",
   "display_name": "Python 3"
  }
 },
 "nbformat": 4,
 "nbformat_minor": 2,
 "cells": [
  {
   "source": [
    "在一个二维数组中（每个一维数组的长度相同），每一行都按照从左到右递增的顺序排序，每一列都按照从上到下递增的顺序排序。请完成一个函数，输入这样的一个二维数组和一个整数，判断数组中是否含有该整数。"
   ],
   "cell_type": "markdown",
   "metadata": {}
  },
  {
   "cell_type": "code",
   "execution_count": 1,
   "metadata": {},
   "outputs": [],
   "source": [
    "# -*- coding:utf-8 -*-\n",
    "class Solution:\n",
    "    # array 二维列表\n",
    "    ''' 时间复杂度O(mn)\n",
    "    def Find(self, target, array):\n",
    "        # write code here\n",
    "        for i in range(len(array)):\n",
    "            for j in range(len(array[i])):\n",
    "                if target == array[i][j]:\n",
    "                    return True\n",
    "        return False\n",
    "       '''\n",
    "    def Find(self, target, array):\n",
    "        row_count = len(array)\n",
    "        i = 0\n",
    "        column_count = len(array[0])\n",
    "        j = column_count - 1\n",
    "        while i < row_count and j >= 0:\n",
    "            value = array[i][j]\n",
    "            if value == target:\n",
    "                return True\n",
    "            elif value > target:\n",
    "                j -= 1\n",
    "            else:\n",
    "                i += 1\n",
    "        return False  \n",
    "        \n",
    "        \n",
    "        \n",
    "        \n",
    "        \n",
    "        "
   ]
  },
  {
   "cell_type": "code",
   "execution_count": 2,
   "metadata": {},
   "outputs": [
    {
     "output_type": "execute_result",
     "data": {
      "text/plain": [
       "True"
      ]
     },
     "metadata": {},
     "execution_count": 2
    }
   ],
   "source": [
    "a = Solution()\n",
    "a.Find(7,[[1,2,8,9],[2,4,9,12],[4,7,10,13],[6,8,11,15]])"
   ]
  },
  {
   "cell_type": "code",
   "execution_count": null,
   "metadata": {},
   "outputs": [],
   "source": []
  }
 ]
}