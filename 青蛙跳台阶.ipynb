{
 "metadata": {
  "language_info": {
   "codemirror_mode": {
    "name": "ipython",
    "version": 3
   },
   "file_extension": ".py",
   "mimetype": "text/x-python",
   "name": "python",
   "nbconvert_exporter": "python",
   "pygments_lexer": "ipython3",
   "version": "3.7.0-final"
  },
  "orig_nbformat": 2,
  "kernelspec": {
   "name": "python3",
   "display_name": "Python 3"
  }
 },
 "nbformat": 4,
 "nbformat_minor": 2,
 "cells": [
  {
   "cell_type": "code",
   "execution_count": 1,
   "metadata": {},
   "outputs": [],
   "source": [
    "# -*- coding:utf-8 -*-\n",
    "class Solution:\n",
    "    def jumpFloor(self, number):\n",
    "        # write code here\n",
    "        if number < 0:\n",
    "            return None\n",
    "        elif number == 0:\n",
    "            return 0\n",
    "        elif number == 1:\n",
    "            return 1\n",
    "        else:\n",
    "            a = 1\n",
    "            b = 1\n",
    "            ret = 0\n",
    "            for i in range(number-1):\n",
    "                ret = a + b\n",
    "                b = a\n",
    "                a = ret\n",
    "            return ret\n",
    "                \n",
    "#             递归失败\n",
    "#             return(self.jumpFloor(number-1) + self.jumpFloor(number - 2))\n",
    "              "
   ]
  },
  {
   "cell_type": "code",
   "execution_count": 9,
   "metadata": {},
   "outputs": [
    {
     "output_type": "execute_result",
     "data": {
      "text/plain": [
       "89"
      ]
     },
     "metadata": {},
     "execution_count": 9
    }
   ],
   "source": [
    "a = Solution()\n",
    "a.jumpFloor(10)"
   ]
  },
  {
   "cell_type": "code",
   "execution_count": null,
   "metadata": {},
   "outputs": [],
   "source": []
  }
 ]
}